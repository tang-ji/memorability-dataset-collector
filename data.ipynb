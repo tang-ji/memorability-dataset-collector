{
 "cells": [
  {
   "cell_type": "code",
   "execution_count": 1,
   "metadata": {},
   "outputs": [],
   "source": [
    "from glob import glob\n",
    "import pickle\n",
    "import matplotlib.pyplot as plt\n",
    "from PIL import Image\n",
    "import numpy as np\n",
    "import os"
   ]
  },
  {
   "cell_type": "code",
   "execution_count": 12,
   "metadata": {},
   "outputs": [],
   "source": [
    "imgs = glob(\"static/imgs/*.jpg\")"
   ]
  },
  {
   "cell_type": "code",
   "execution_count": 26,
   "metadata": {},
   "outputs": [],
   "source": [
    "import numpy as np\n",
    "\n",
    "def get_files(imgs, marked, n_targets=66, n_filler=22, n_vigilence=12):\n",
    "    imgs_new = [img for img in imgs if img not in marked]\n",
    "    files = np.random.choice(imgs_new, n_targets + n_filler + n_vigilence, replace=False)\n",
    "    return files[:n_targets], files[n_targets: n_targets + n_filler], files[n_targets + n_filler: n_targets + n_filler + n_vigilence]\n",
    "\n",
    "    \n",
    "def next_vig(available, i, max_vigilence):\n",
    "    l = []\n",
    "    for j in range(i+1, len(available)):\n",
    "        if available[j] - available[i] > 2:\n",
    "            if available[j] - available[i] <= max_vigilence:\n",
    "                l.append(j)\n",
    "            else:\n",
    "                break\n",
    "    if len(l) == 0:\n",
    "        return None\n",
    "    return np.random.choice(l, 1)[0]\n",
    "\n",
    "def next_target(labels, target, target_gap):\n",
    "    temp_gap = 0; this_gap = 0\n",
    "    while True:\n",
    "        if labels[target + target_gap + temp_gap] == 0:\n",
    "            this_gap = target_gap + temp_gap\n",
    "            break\n",
    "        if labels[target + target_gap - temp_gap] == 0:\n",
    "            this_gap = target_gap - temp_gap\n",
    "            break\n",
    "        temp_gap += 1\n",
    "    return this_gap\n",
    "\n",
    "def set_target_reps(labels, files,file_targets, targets, target_gap):\n",
    "    for i, target in enumerate(targets):  \n",
    "        this_gap = next_target(labels, target, target_gap)\n",
    "        labels[target+this_gap] = 2\n",
    "        files[target+this_gap] = file_targets[i]\n",
    "\n",
    "def get_sequence(file_targets, file_filler, file_vigilence, target_gap=80, max_vigilence=7):\n",
    "    label_list = [\"filler\", \"target\", \"target_rep\", \"vigilence\", \"vigilence_rep\"]\n",
    "    n_targets, n_filler, n_vigilence = len(file_targets), len(file_filler), len(file_vigilence)\n",
    "    # shuffle\n",
    "    np.random.shuffle(file_targets)\n",
    "    np.random.shuffle(file_filler)\n",
    "    np.random.shuffle(file_vigilence)\n",
    "    n = n_targets*2 + n_filler + n_vigilence*2\n",
    "    labels = np.zeros(n)\n",
    "    files = np.array([file_targets[0]]*n)\n",
    "    targets = np.random.choice(n-target_gap, n_targets, replace=False)\n",
    "    labels[targets] = 1\n",
    "    files[targets] = file_targets\n",
    "    set_target_reps(labels, files,file_targets, targets, target_gap)\n",
    "    available = np.array(range(n))[labels == 0]\n",
    "    current_vigilence = 0\n",
    "    for i in range(n_vigilence*2):\n",
    "        s = np.random.choice(len(available), 1)[0]\n",
    "        s_next = next_vig(available, s, max_vigilence)\n",
    "        if s_next is None:\n",
    "            continue\n",
    "        labels[available[s]] = 3  \n",
    "        files[available[s]] = file_vigilence[current_vigilence]\n",
    "        labels[available[s_next]] = 4\n",
    "        files[available[s_next]] = file_vigilence[current_vigilence]\n",
    "        available = np.delete(available, s_next)\n",
    "        available = np.delete(available, s)\n",
    "        current_vigilence += 1\n",
    "        if current_vigilence == n_vigilence:\n",
    "            break\n",
    "\n",
    "    files[available] = file_filler\n",
    "    return files, labels\n",
    "\n",
    "def evaluation(labels, answers):\n",
    "    labels = np.array(labels)\n",
    "    answers = np.array(answers)\n",
    "    results = {}\n",
    "    results[\"correct_filler\"] = sum(answers[labels==0]==0)\n",
    "    results[\"correct_target\"] = sum(answers[labels==1]==0)\n",
    "    results[\"correct_target_rep\"] = sum(answers[labels==2]==1)\n",
    "    results[\"correct_vigilence\"] = sum(answers[labels==3]==0)\n",
    "    results[\"correct_vigilence_rep\"] = sum(answers[labels==4]==1)\n",
    "    return results\n",
    "\n",
    "def score(n_targets, n_filler, n_vigilence, labels, answers):\n",
    "    e = evaluation(labels, answers)\n",
    "    s_max = n_targets*3+n_filler+n_vigilence*2\n",
    "    s = e[\"correct_filler\"]+e[\"correct_target\"]+2*e[\"correct_target_rep\"]+e[\"correct_vigilence\"]+e[\"correct_vigilence_rep\"] \n",
    "    return round(np.sqrt(s)/np.sqrt(s_max)*100, 1)\n",
    "\n",
    "def return_result(n_targets, n_filler, n_vigilence, labels, answers):\n",
    "    e = evaluation(labels, answers)\n",
    "    return(\"filler accuracy: {:.1f}%, target accuracy: {:.1f}%, vigilence accuracy: {:.1f}%\".format(e['correct_filler']/n_filler*100, \n",
    "                                                                                               (e['correct_target']+e['correct_target_rep'])/(2*n_targets)*100, \n",
    "                                                                                               (e['correct_vigilence']+e['correct_vigilence_rep'])/(2*n_vigilence)*100))"
   ]
  },
  {
   "cell_type": "code",
   "execution_count": 27,
   "metadata": {},
   "outputs": [],
   "source": [
    "def show(img_name, img_path=\"static/imgs\"):\n",
    "    image = Image.open(os.path.join(img_path, img_name))\n",
    "    _, ax = plt.subplots(figsize=(4,4), dpi=120)\n",
    "    ax.imshow(image)\n",
    "    ax.set_yticks([])\n",
    "    ax.set_xticks([])"
   ]
  },
  {
   "cell_type": "code",
   "execution_count": 42,
   "metadata": {},
   "outputs": [],
   "source": [
    "n_targets, n_filler, n_vigilence = 66, 44, 12\n",
    "file_targets, file_filler, file_vigilence = get_files(imgs, set(), n_targets=n_targets, n_filler=n_filler, n_vigilence=n_vigilence)\n",
    "files, labels = get_sequence(file_targets, file_filler, file_vigilence)"
   ]
  },
  {
   "cell_type": "code",
   "execution_count": 25,
   "metadata": {},
   "outputs": [
    {
     "name": "stdout",
     "output_type": "stream",
     "text": [
      "filler accuracy: 72.7%, target accuracy: 51.5%, vigilence accuracy: 20.8%\n"
     ]
    }
   ],
   "source": [
    "print_result(n_targets, n_filler, n_vigilence, labels, answers)"
   ]
  },
  {
   "cell_type": "code",
   "execution_count": 3,
   "metadata": {},
   "outputs": [],
   "source": [
    "import pickle, os\n",
    "import numpy as np\n",
    "[evaluation, scores, marks] = pickle.load(open(os.path.join(\"data/ji\", \"data.pkl\"), 'rb'))"
   ]
  },
  {
   "cell_type": "code",
   "execution_count": 4,
   "metadata": {},
   "outputs": [
    {
     "data": {
      "text/plain": [
       "[0, 0, 0, 0, 0, 1, 0, 0, 0, 0]"
      ]
     },
     "execution_count": 4,
     "metadata": {},
     "output_type": "execute_result"
    }
   ],
   "source": [
    "evaluation"
   ]
  },
  {
   "cell_type": "code",
   "execution_count": 5,
   "metadata": {},
   "outputs": [],
   "source": [
    "evaluation.append([1,2])"
   ]
  },
  {
   "cell_type": "code",
   "execution_count": 6,
   "metadata": {},
   "outputs": [],
   "source": [
    "def valide_letter(s):\n",
    "    if s.isalpha() or s.isdigit() or s == \"_\":\n",
    "        return True\n",
    "    return False"
   ]
  },
  {
   "cell_type": "code",
   "execution_count": 8,
   "metadata": {},
   "outputs": [
    {
     "data": {
      "text/plain": [
       "'ji_12'"
      ]
     },
     "execution_count": 8,
     "metadata": {},
     "output_type": "execute_result"
    }
   ],
   "source": [
    "username = \"ji_12\"\n",
    "''.join(filter(valide_letter, username.lower()))"
   ]
  },
  {
   "cell_type": "code",
   "execution_count": 49,
   "metadata": {},
   "outputs": [],
   "source": [
    "from src.dictionary_en import *\n",
    "import numpy as np\n",
    "\n",
    "def generate(min_length, max_length, items, p, seperator=' '):\n",
    "    count = 0\n",
    "    while True:\n",
    "        animal_rand = np.random.randint(0, len(animal)-1)\n",
    "        adjective_rand = np.random.randint(0, len(adjective)-1)\n",
    "        color_rand = np.random.randint(0, len(color)-1)\n",
    "        seq = []\n",
    "        for i, item in enumerate(items):\n",
    "            if np.random.rand()<=p[i]:\n",
    "                seq.append(item[np.random.randint(0, len(item)-1)])\n",
    "        name = seperator.join(seq)        \n",
    "        if len(name) <= max_length and len(name) >= min_length:\n",
    "            return name\n",
    "        count = count + 1\n",
    "        if count > 10000:\n",
    "            raise ValueError('No available name found')"
   ]
  },
  {
   "cell_type": "code",
   "execution_count": 65,
   "metadata": {},
   "outputs": [
    {
     "data": {
      "text/plain": [
       "'Right dolphin'"
      ]
     },
     "execution_count": 65,
     "metadata": {},
     "output_type": "execute_result"
    }
   ],
   "source": [
    "generate(min_length=8, max_length=15, items=[color, adjective, animal], p=[0.5, 0.5, 1])"
   ]
  },
  {
   "cell_type": "code",
   "execution_count": 68,
   "metadata": {},
   "outputs": [],
   "source": [
    "data = glob(os.path.join(\"data/*\"))"
   ]
  },
  {
   "cell_type": "code",
   "execution_count": 71,
   "metadata": {},
   "outputs": [
    {
     "data": {
      "text/plain": [
       "'nwo'"
      ]
     },
     "execution_count": 71,
     "metadata": {},
     "output_type": "execute_result"
    }
   ],
   "source": [
    "os.path.split(data[0])[1]"
   ]
  },
  {
   "cell_type": "code",
   "execution_count": null,
   "metadata": {},
   "outputs": [],
   "source": []
  }
 ],
 "metadata": {
  "kernelspec": {
   "display_name": "Python 3",
   "language": "python",
   "name": "python3"
  },
  "language_info": {
   "codemirror_mode": {
    "name": "ipython",
    "version": 3
   },
   "file_extension": ".py",
   "mimetype": "text/x-python",
   "name": "python",
   "nbconvert_exporter": "python",
   "pygments_lexer": "ipython3",
   "version": "3.7.7"
  }
 },
 "nbformat": 4,
 "nbformat_minor": 4
}
