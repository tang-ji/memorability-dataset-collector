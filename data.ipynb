{
 "cells": [
  {
   "cell_type": "code",
   "execution_count": 1,
   "metadata": {},
   "outputs": [],
   "source": [
    "from glob import glob"
   ]
  },
  {
   "cell_type": "code",
   "execution_count": 2,
   "metadata": {},
   "outputs": [],
   "source": [
    "imgs = glob(\"static/imgs/*.jpg\")"
   ]
  },
  {
   "cell_type": "code",
   "execution_count": 64,
   "metadata": {},
   "outputs": [],
   "source": [
    "import numpy as np\n",
    "\n",
    "def next_vig(available, i, max_vigilence):\n",
    "    l = []\n",
    "    for j in range(i+1, len(available)):\n",
    "        if available[j] - available[i] > 3:\n",
    "            if available[j] - available[i] <= max_vigilence:\n",
    "                l.append(j)\n",
    "            else:\n",
    "                break\n",
    "    if len(l) == 0:\n",
    "        return None\n",
    "    return np.random.choice(l, 1)[0]\n",
    "\n",
    "def get_sequence(n=178, n_targets=66, target_gap=80, n_filler=22, n_vigilence=12, max_vigilence=10):\n",
    "    label_list = [\"filler\", \"target\", \"target_rep\", \"vigilence\", \"vigilence_rep\"]\n",
    "    labels = np.zeros(n)\n",
    "    targets = np.random.choice(n-target_gap, n_targets, replace=False)\n",
    "    labels[targets] = 1\n",
    "    labels[targets+target_gap] = 2\n",
    "    available = np.array(range(n))[labels == 0]\n",
    "\n",
    "    current_vigilence = 0\n",
    "    for i in range(n_vigilence*2):\n",
    "        s = np.random.choice(len(available), 1)[0]\n",
    "        s_next = next_vig(available, s, max_vigilence)\n",
    "        if s_next is None:\n",
    "            continue\n",
    "        labels[available[s]] = 3\n",
    "        labels[available[s_next]] = 4\n",
    "        print(available[s], available[s_next])\n",
    "        np.delete(available, s)\n",
    "        np.delete(available, s_next)\n",
    "        current_vigilence += 1\n",
    "        if current_vigilence == n_vigilence:\n",
    "            break\n",
    "    return labels"
   ]
  },
  {
   "cell_type": "code",
   "execution_count": 66,
   "metadata": {},
   "outputs": [
    {
     "name": "stdout",
     "output_type": "stream",
     "text": [
      "166 173\n",
      "164 172\n",
      "37 42\n",
      "117 122\n",
      "100 109\n",
      "29 35\n",
      "166 172\n",
      "54 60\n",
      "70 74\n",
      "100 107\n",
      "166 173\n",
      "100 110\n"
     ]
    },
    {
     "data": {
      "text/plain": [
       "array([0., 1., 1., 1., 1., 1., 1., 0., 0., 1., 1., 1., 0., 1., 1., 1., 1.,\n",
       "       1., 1., 0., 0., 1., 0., 0., 1., 1., 0., 0., 1., 3., 0., 1., 0., 1.,\n",
       "       1., 4., 1., 3., 0., 1., 1., 1., 4., 1., 1., 1., 1., 1., 1., 1., 1.,\n",
       "       1., 1., 1., 3., 1., 1., 0., 1., 1., 4., 1., 0., 1., 1., 1., 0., 1.,\n",
       "       1., 0., 3., 1., 1., 1., 4., 1., 1., 0., 1., 1., 1., 2., 2., 2., 2.,\n",
       "       2., 2., 1., 0., 2., 2., 2., 0., 2., 2., 2., 2., 2., 2., 0., 3., 2.,\n",
       "       0., 0., 2., 2., 0., 4., 2., 4., 4., 2., 0., 2., 2., 0., 2., 3., 0.,\n",
       "       2., 2., 2., 4., 2., 2., 2., 2., 2., 2., 2., 2., 2., 2., 2., 0., 2.,\n",
       "       2., 0., 2., 2., 0., 2., 0., 2., 2., 2., 0., 2., 2., 0., 0., 2., 2.,\n",
       "       2., 0., 2., 2., 0., 2., 2., 2., 2., 2., 2., 3., 2., 3., 2., 0., 0.,\n",
       "       2., 2., 4., 4., 2., 2., 2., 2.])"
      ]
     },
     "execution_count": 66,
     "metadata": {},
     "output_type": "execute_result"
    }
   ],
   "source": [
    "get_sequence(n=178, n_targets=66, target_gap=80, n_filler=22, n_vigilence=12, max_vigilence=10)"
   ]
  },
  {
   "cell_type": "code",
   "execution_count": null,
   "metadata": {},
   "outputs": [],
   "source": []
  }
 ],
 "metadata": {
  "kernelspec": {
   "display_name": "Python 3",
   "language": "python",
   "name": "python3"
  },
  "language_info": {
   "codemirror_mode": {
    "name": "ipython",
    "version": 3
   },
   "file_extension": ".py",
   "mimetype": "text/x-python",
   "name": "python",
   "nbconvert_exporter": "python",
   "pygments_lexer": "ipython3",
   "version": "3.7.7"
  }
 },
 "nbformat": 4,
 "nbformat_minor": 4
}
