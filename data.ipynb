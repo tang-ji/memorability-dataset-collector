{
 "cells": [
  {
   "cell_type": "code",
   "execution_count": 1,
   "metadata": {},
   "outputs": [],
   "source": [
    "from glob import glob"
   ]
  },
  {
   "cell_type": "code",
   "execution_count": 2,
   "metadata": {},
   "outputs": [],
   "source": [
    "imgs = glob(\"static/imgs/*.jpg\")"
   ]
  },
  {
   "cell_type": "code",
   "execution_count": 27,
   "metadata": {},
   "outputs": [],
   "source": [
    "import numpy as np\n",
    "\n",
    "def get_files(imgs, n_targets=66, n_filler=22, n_vigilence=12):\n",
    "    files = np.random.choice(imgs, n_targets + n_filler + n_vigilence, replace=False)\n",
    "    return files[:n_targets], files[n_targets: n_targets + n_filler], files[n_targets + n_filler: n_targets + n_filler + n_vigilence]\n",
    "    \n",
    "def next_vig(available, i, max_vigilence):\n",
    "    l = []\n",
    "    for j in range(i+1, len(available)):\n",
    "        if available[j] - available[i] > 3:\n",
    "            if available[j] - available[i] <= max_vigilence:\n",
    "                l.append(j)\n",
    "            else:\n",
    "                break\n",
    "    if len(l) == 0:\n",
    "        return None\n",
    "    return np.random.choice(l, 1)[0]\n",
    "\n",
    "def next_target(labels, target, target_gap):\n",
    "    temp_gap = 0; this_gap = 0\n",
    "    while True:\n",
    "        if labels[target + target_gap + temp_gap] == 0:\n",
    "            this_gap = target_gap + temp_gap\n",
    "            break\n",
    "        if labels[target + target_gap - temp_gap] == 0:\n",
    "            this_gap = target_gap - temp_gap\n",
    "            break\n",
    "        temp_gap += 1\n",
    "    return this_gap\n",
    "\n",
    "def set_target_reps(labels, files,file_targets, targets, target_gap):\n",
    "    for i, target in enumerate(targets):  \n",
    "        this_gap = next_target(labels, target, target_gap)\n",
    "        labels[target+this_gap] = 2\n",
    "        files[target+this_gap] = file_targets[i]\n",
    "\n",
    "def get_sequence(file_targets, file_filler, file_vigilence, target_gap=80, max_vigilence=10):\n",
    "    label_list = [\"filler\", \"target\", \"target_rep\", \"vigilence\", \"vigilence_rep\"]\n",
    "    n_targets, n_filler, n_vigilence = len(file_targets), len(file_filler), len(file_vigilence)\n",
    "    # shuffle\n",
    "    np.random.shuffle(file_targets)\n",
    "    np.random.shuffle(file_filler)\n",
    "    np.random.shuffle(file_vigilence)\n",
    "    n = n_targets*2 + n_filler + n_vigilence*2\n",
    "    labels = np.zeros(n)\n",
    "    files = np.array([file_targets[0]]*n)\n",
    "    targets = np.random.choice(n-target_gap, n_targets, replace=False)\n",
    "    labels[targets] = 1\n",
    "    files[targets] = file_targets\n",
    "    set_target_reps(labels, files,file_targets, targets, target_gap)\n",
    "    available = np.array(range(n))[labels == 0]\n",
    "    current_vigilence = 0\n",
    "    for i in range(n_vigilence*2):\n",
    "        s = np.random.choice(len(available), 1)[0]\n",
    "        s_next = next_vig(available, s, max_vigilence)\n",
    "        if s_next is None:\n",
    "            continue\n",
    "        labels[available[s]] = 3  \n",
    "        files[available[s]] = file_vigilence[current_vigilence]\n",
    "        labels[available[s_next]] = 4\n",
    "        files[available[s_next]] = file_vigilence[current_vigilence]\n",
    "        available = np.delete(available, s_next)\n",
    "        available = np.delete(available, s)\n",
    "        current_vigilence += 1\n",
    "        if current_vigilence == n_vigilence:\n",
    "            break\n",
    "\n",
    "    files[available] = file_filler\n",
    "    return files, labels\n",
    "\n",
    "def evaluation(labels, answers):\n",
    "    labels = np.array(labels)\n",
    "    answers = np.array(answers)\n",
    "    results = {}\n",
    "    results[\"correct_filler\"] = sum(answers[labels==0]==0)\n",
    "    results[\"correct_target\"] = sum(answers[labels==1]==0)\n",
    "    results[\"correct_target_rep\"] = sum(answers[labels==2]==1)\n",
    "    results[\"correct_vigilence\"] = sum(answers[labels==3]==0)\n",
    "    results[\"correct_vigilence_rep\"] = sum(answers[labels==4]==1)\n",
    "    return results\n",
    "\n",
    "def print_result(n_targets, n_filler, n_vigilence, labels, answers):\n",
    "    e = evaluation(labels, answers)\n",
    "    n_targets, n_filler, n_vigilence = len(file_targets), len(file_filler), len(file_vigilence)\n",
    "    print(\"filler accuracy: {:.1f}%, target accuracy: {:.1f}%, vigilence accuracy: {:.1f}%\".format(e['correct_filler']/len(file_filler)*100, \n",
    "                                                                                               (e['correct_target']+e['correct_target_rep'])/(2*len(file_targets))*100, \n",
    "                                                                                               (e['correct_vigilence']+e['correct_vigilence_rep'])/(2*len(file_vigilence))*100))"
   ]
  },
  {
   "cell_type": "code",
   "execution_count": 32,
   "metadata": {},
   "outputs": [],
   "source": [
    "n_targets, n_filler, n_vigilence = 66, 44, 12\n",
    "file_targets, file_filler, file_vigilence = get_files(imgs, n_targets=n_targets, n_filler=n_filler, n_vigilence=n_vigilence)\n",
    "files, labels = get_sequence(file_targets, file_filler, file_vigilence)"
   ]
  },
  {
   "cell_type": "code",
   "execution_count": 12,
   "metadata": {},
   "outputs": [],
   "source": [
    "answers = np.random.rand(len(labels))\n",
    "answers[answers>0.5] = 1\n",
    "answers[answers<=0.5] = 0"
   ]
  },
  {
   "cell_type": "code",
   "execution_count": 15,
   "metadata": {},
   "outputs": [],
   "source": [
    "e = evaluation(labels, answers)"
   ]
  },
  {
   "cell_type": "code",
   "execution_count": 25,
   "metadata": {},
   "outputs": [
    {
     "name": "stdout",
     "output_type": "stream",
     "text": [
      "filler accuracy: 72.7%, target accuracy: 51.5%, vigilence accuracy: 20.8%\n"
     ]
    }
   ],
   "source": [
    "print_result(n_targets, n_filler, n_vigilence, labels, answers)"
   ]
  },
  {
   "cell_type": "code",
   "execution_count": 31,
   "metadata": {},
   "outputs": [
    {
     "data": {
      "text/plain": [
       "198"
      ]
     },
     "execution_count": 31,
     "metadata": {},
     "output_type": "execute_result"
    }
   ],
   "source": [
    "len( [0, 0, 0, 0, 0, 0, 0, 0, 0, 0, 0, 0, 0, 0, 0, 0, 0, 0, 0, 0, 0, 0, 0, 0, 0, 0, 0, 0, 0, 0, 0, 0, 0, 0, 0, 0, 0, 0, 0, 0, 0, 0, 0, 0, 0, 0, 0, 0, 0, 0, 0, 0, 0, 0, 0, 0, 0, 0, 0, 0, 0, 0, 0, 0, 0, 0, 0, 0, 0, 0, 0, 0, 1, 0, 0, 1, 0, 0, 0, 0, 1, 1, 1, 0, 0, 0, 0, 0, 1, 0, 0, 0, 0, 1, 1, 0, 0, 0, 0, 0, 0, 0, 0, 0, 0, 0, 0, 0, 0, 0, 0, 0, 0, 0, 1, 0, 0, 0, 0, 0, 0, 0, 0, 0, 0, 0, 0, 0, 1, 1, 1, 0, 1, 0, 0, 0, 0, 0, 0, 0, 0, 1, 0, 0, 0, 0, 0, 0, 0, 0, 0, 1, 0, 0, 0, 1, 0, 0, 0, 0, 0, 0, 0, 0, 0, 0, 0, 0, 0, 0, 0, 0, 0, 0, 0, 0, 0, 0, 0, 0, 0, 0, 0, 0, 0, 0, 0, 1, 0, 1, 0, 0, 0, 0, 0, 0, 0, 1])"
   ]
  },
  {
   "cell_type": "code",
   "execution_count": 1,
   "metadata": {},
   "outputs": [],
   "source": [
    "a = {1:2}"
   ]
  },
  {
   "cell_type": "code",
   "execution_count": 4,
   "metadata": {},
   "outputs": [
    {
     "data": {
      "text/plain": [
       "1"
      ]
     },
     "execution_count": 4,
     "metadata": {},
     "output_type": "execute_result"
    }
   ],
   "source": [
    "list(a.keys())[0]"
   ]
  },
  {
   "cell_type": "code",
   "execution_count": 6,
   "metadata": {},
   "outputs": [
    {
     "name": "stdout",
     "output_type": "stream",
     "text": [
      "1 2\n"
     ]
    }
   ],
   "source": [
    "for k, v in a.items():\n",
    "    print(\"{} {}\".format(k, v))"
   ]
  },
  {
   "cell_type": "code",
   "execution_count": 19,
   "metadata": {},
   "outputs": [
    {
     "ename": "ModuleNotFoundError",
     "evalue": "No module named 'flask_login_multi'",
     "output_type": "error",
     "traceback": [
      "\u001b[0;31m---------------------------------------------------------------------------\u001b[0m",
      "\u001b[0;31mModuleNotFoundError\u001b[0m                       Traceback (most recent call last)",
      "\u001b[0;32m<ipython-input-19-a9e869fbc1cc>\u001b[0m in \u001b[0;36m<module>\u001b[0;34m\u001b[0m\n\u001b[1;32m      1\u001b[0m \u001b[0;32mfrom\u001b[0m \u001b[0mflask\u001b[0m \u001b[0;32mimport\u001b[0m \u001b[0mFlask\u001b[0m\u001b[0;34m\u001b[0m\u001b[0;34m\u001b[0m\u001b[0m\n\u001b[0;32m----> 2\u001b[0;31m \u001b[0;32mfrom\u001b[0m \u001b[0mflask_login_multi\u001b[0m\u001b[0;34m.\u001b[0m\u001b[0mlogin_manager\u001b[0m \u001b[0;32mimport\u001b[0m \u001b[0mLoginManager\u001b[0m\u001b[0;34m\u001b[0m\u001b[0;34m\u001b[0m\u001b[0m\n\u001b[0m\u001b[1;32m      3\u001b[0m \u001b[0;34m\u001b[0m\u001b[0m\n\u001b[1;32m      4\u001b[0m \u001b[0mapp\u001b[0m\u001b[0;34m=\u001b[0m\u001b[0mFlask\u001b[0m\u001b[0;34m(\u001b[0m\u001b[0m__name__\u001b[0m\u001b[0;34m)\u001b[0m\u001b[0;34m\u001b[0m\u001b[0;34m\u001b[0m\u001b[0m\n\u001b[1;32m      5\u001b[0m \u001b[0;34m\u001b[0m\u001b[0m\n",
      "\u001b[0;31mModuleNotFoundError\u001b[0m: No module named 'flask_login_multi'"
     ]
    }
   ],
   "source": [
    "from flask import Flask\n",
    "from flask_login_multi.login_manager import LoginManager   \n",
    "\n",
    "app=Flask(__name__)\n",
    "\n",
    "login_manager = LoginManager(app)   \n",
    "\n",
    "login_manager.blueprint_login_views = {  \n",
    "        'user':  \"user.user_login\",  \n",
    "        'admin': \"admin.admin_login\",  \n",
    "    }  "
   ]
  },
  {
   "cell_type": "code",
   "execution_count": 3,
   "metadata": {},
   "outputs": [],
   "source": [
    "import pickle, os\n",
    "import numpy as np\n",
    "[evaluation, scores, marks] = pickle.load(open(os.path.join(\"data/ji\", \"data.pkl\"), 'rb'))"
   ]
  },
  {
   "cell_type": "code",
   "execution_count": 4,
   "metadata": {},
   "outputs": [
    {
     "data": {
      "text/plain": [
       "[0, 0, 0, 0, 0, 1, 0, 0, 0, 0]"
      ]
     },
     "execution_count": 4,
     "metadata": {},
     "output_type": "execute_result"
    }
   ],
   "source": [
    "evaluation"
   ]
  },
  {
   "cell_type": "code",
   "execution_count": 5,
   "metadata": {},
   "outputs": [],
   "source": [
    "evaluation.append([1,2])"
   ]
  },
  {
   "cell_type": "code",
   "execution_count": 6,
   "metadata": {},
   "outputs": [
    {
     "data": {
      "text/plain": [
       "[0, 0, 0, 0, 0, 1, 0, 0, 0, 0, [1, 2]]"
      ]
     },
     "execution_count": 6,
     "metadata": {},
     "output_type": "execute_result"
    }
   ],
   "source": []
  },
  {
   "cell_type": "code",
   "execution_count": null,
   "metadata": {},
   "outputs": [],
   "source": []
  }
 ],
 "metadata": {
  "kernelspec": {
   "display_name": "Python 3",
   "language": "python",
   "name": "python3"
  },
  "language_info": {
   "codemirror_mode": {
    "name": "ipython",
    "version": 3
   },
   "file_extension": ".py",
   "mimetype": "text/x-python",
   "name": "python",
   "nbconvert_exporter": "python",
   "pygments_lexer": "ipython3",
   "version": "3.7.7"
  }
 },
 "nbformat": 4,
 "nbformat_minor": 4
}
