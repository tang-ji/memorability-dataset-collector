{
 "cells": [
  {
   "cell_type": "code",
   "execution_count": 1,
   "metadata": {},
   "outputs": [],
   "source": [
    "from glob import glob"
   ]
  },
  {
   "cell_type": "code",
   "execution_count": 2,
   "metadata": {},
   "outputs": [],
   "source": [
    "imgs = glob(\"static/imgs/*.jpg\")"
   ]
  },
  {
   "cell_type": "code",
   "execution_count": 53,
   "metadata": {},
   "outputs": [],
   "source": [
    "import numpy as np\n",
    "\n",
    "def next_vig(available, i, max_vigilence):\n",
    "    l = []\n",
    "    for j in range(i+1, len(available)):\n",
    "        if available[j] - available[i] <= max_vigilence:\n",
    "            l.append(j)\n",
    "        else:\n",
    "            break\n",
    "    if len(l) == 0:\n",
    "        return None\n",
    "    return np.random.choice(l, 1)[0]\n",
    "\n",
    "def get_sequence(n=178, n_targets=66, target_gap=80, n_filler=22, n_vigilence=12, max_vigilence=10):\n",
    "    label_list = [\"filler\", \"target\", \"target_rep\", \"vigilence\", \"vigilence_rep\"]\n",
    "    labels = np.zeros(n)\n",
    "    targets = np.random.choice(n-target_gap, n_targets, replace=False)\n",
    "    labels[targets] = 1\n",
    "    labels[targets+target_gap] = 2\n",
    "    available = np.array(range(n))[labels == 0]\n",
    "\n",
    "    current_vigilence = 0\n",
    "    for i in range(n_vigilence*2):\n",
    "        s = np.random.choice(len(available), 1)[0]\n",
    "        s_next = next_vig(available, s, max_vigilence)\n",
    "        if s_next is None:\n",
    "            continue\n",
    "        labels[s] = 3\n",
    "        labels[s_next] = 4\n",
    "        np.delete(available, s)\n",
    "        np.delete(available, s_next)\n",
    "        current_vigilence += 1\n",
    "        if current_vigilence == n_vigilence:\n",
    "            break\n",
    "    return labels"
   ]
  },
  {
   "cell_type": "code",
   "execution_count": 47,
   "metadata": {},
   "outputs": [],
   "source": [
    "n=178; n_targets=66; target_gap=80; n_filler=22; n_vigilence=12; max_vigilence=10\n",
    "\n",
    "labels = np.zeros(n)\n",
    "targets = np.random.choice(n-target_gap, n_targets, replace=False)\n",
    "\n",
    "labels[targets] = 1\n",
    "labels[targets+target_gap] = 2"
   ]
  },
  {
   "cell_type": "code",
   "execution_count": 54,
   "metadata": {},
   "outputs": [
    {
     "data": {
      "text/plain": [
       "array([3., 1., 1., 4., 3., 3., 4., 1., 3., 1., 0., 4., 0., 0., 0., 1., 0.,\n",
       "       1., 1., 3., 4., 3., 4., 3., 3., 4., 1., 0., 1., 0., 1., 3., 4., 1.,\n",
       "       1., 1., 0., 0., 1., 0., 1., 3., 1., 0., 4., 0., 0., 0., 1., 1., 1.,\n",
       "       1., 3., 4., 1., 0., 0., 0., 0., 1., 1., 1., 1., 1., 1., 1., 0., 1.,\n",
       "       1., 1., 0., 1., 1., 1., 0., 1., 1., 1., 0., 1., 2., 2., 2., 2., 2.,\n",
       "       2., 2., 2., 2., 2., 1., 2., 0., 0., 1., 2., 1., 2., 2., 2., 0., 2.,\n",
       "       2., 2., 2., 0., 2., 0., 2., 0., 2., 2., 2., 2., 2., 2., 0., 0., 2.,\n",
       "       0., 2., 0., 2., 0., 2., 0., 0., 0., 2., 2., 2., 2., 0., 2., 2., 0.,\n",
       "       0., 0., 0., 2., 2., 2., 2., 2., 2., 2., 0., 2., 2., 2., 0., 2., 2.,\n",
       "       2., 0., 2., 2., 2., 0., 2., 0., 2., 2., 0., 2., 0., 2., 2., 2., 2.,\n",
       "       2., 2., 0., 0., 2., 0., 2., 2.])"
      ]
     },
     "execution_count": 54,
     "metadata": {},
     "output_type": "execute_result"
    }
   ],
   "source": [
    "get_sequence(n=178, n_targets=66, target_gap=80, n_filler=22, n_vigilence=12, max_vigilence=10)"
   ]
  },
  {
   "cell_type": "code",
   "execution_count": null,
   "metadata": {},
   "outputs": [],
   "source": []
  }
 ],
 "metadata": {
  "kernelspec": {
   "display_name": "Python 3",
   "language": "python",
   "name": "python3"
  },
  "language_info": {
   "codemirror_mode": {
    "name": "ipython",
    "version": 3
   },
   "file_extension": ".py",
   "mimetype": "text/x-python",
   "name": "python",
   "nbconvert_exporter": "python",
   "pygments_lexer": "ipython3",
   "version": "3.7.7"
  }
 },
 "nbformat": 4,
 "nbformat_minor": 4
}
