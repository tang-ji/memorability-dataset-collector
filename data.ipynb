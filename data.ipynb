{
 "cells": [
  {
   "cell_type": "code",
   "execution_count": 12,
   "metadata": {},
   "outputs": [],
   "source": [
    "from glob import glob\n",
    "import pickle\n",
    "import matplotlib.pyplot as plt\n",
    "from PIL import Image\n",
    "import numpy as np\n",
    "import os"
   ]
  },
  {
   "cell_type": "code",
   "execution_count": 12,
   "metadata": {},
   "outputs": [],
   "source": [
    "imgs = glob(\"static/imgs/*.jpg\")"
   ]
  },
  {
   "cell_type": "code",
   "execution_count": 26,
   "metadata": {},
   "outputs": [],
   "source": [
    "import numpy as np\n",
    "\n",
    "def get_files(imgs, marked, n_targets=66, n_filler=22, n_vigilence=12):\n",
    "    imgs_new = [img for img in imgs if img not in marked]\n",
    "    files = np.random.choice(imgs_new, n_targets + n_filler + n_vigilence, replace=False)\n",
    "    return files[:n_targets], files[n_targets: n_targets + n_filler], files[n_targets + n_filler: n_targets + n_filler + n_vigilence]\n",
    "\n",
    "    \n",
    "def next_vig(available, i, max_vigilence):\n",
    "    l = []\n",
    "    for j in range(i+1, len(available)):\n",
    "        if available[j] - available[i] > 2:\n",
    "            if available[j] - available[i] <= max_vigilence:\n",
    "                l.append(j)\n",
    "            else:\n",
    "                break\n",
    "    if len(l) == 0:\n",
    "        return None\n",
    "    return np.random.choice(l, 1)[0]\n",
    "\n",
    "def next_target(labels, target, target_gap):\n",
    "    temp_gap = 0; this_gap = 0\n",
    "    while True:\n",
    "        if labels[target + target_gap + temp_gap] == 0:\n",
    "            this_gap = target_gap + temp_gap\n",
    "            break\n",
    "        if labels[target + target_gap - temp_gap] == 0:\n",
    "            this_gap = target_gap - temp_gap\n",
    "            break\n",
    "        temp_gap += 1\n",
    "    return this_gap\n",
    "\n",
    "def set_target_reps(labels, files,file_targets, targets, target_gap):\n",
    "    for i, target in enumerate(targets):  \n",
    "        this_gap = next_target(labels, target, target_gap)\n",
    "        labels[target+this_gap] = 2\n",
    "        files[target+this_gap] = file_targets[i]\n",
    "\n",
    "def get_sequence(file_targets, file_filler, file_vigilence, target_gap=80, max_vigilence=7):\n",
    "    label_list = [\"filler\", \"target\", \"target_rep\", \"vigilence\", \"vigilence_rep\"]\n",
    "    n_targets, n_filler, n_vigilence = len(file_targets), len(file_filler), len(file_vigilence)\n",
    "    # shuffle\n",
    "    np.random.shuffle(file_targets)\n",
    "    np.random.shuffle(file_filler)\n",
    "    np.random.shuffle(file_vigilence)\n",
    "    n = n_targets*2 + n_filler + n_vigilence*2\n",
    "    labels = np.zeros(n)\n",
    "    files = np.array([file_targets[0]]*n)\n",
    "    targets = np.random.choice(n-target_gap, n_targets, replace=False)\n",
    "    labels[targets] = 1\n",
    "    files[targets] = file_targets\n",
    "    set_target_reps(labels, files,file_targets, targets, target_gap)\n",
    "    available = np.array(range(n))[labels == 0]\n",
    "    current_vigilence = 0\n",
    "    for i in range(n_vigilence*2):\n",
    "        s = np.random.choice(len(available), 1)[0]\n",
    "        s_next = next_vig(available, s, max_vigilence)\n",
    "        if s_next is None:\n",
    "            continue\n",
    "        labels[available[s]] = 3  \n",
    "        files[available[s]] = file_vigilence[current_vigilence]\n",
    "        labels[available[s_next]] = 4\n",
    "        files[available[s_next]] = file_vigilence[current_vigilence]\n",
    "        available = np.delete(available, s_next)\n",
    "        available = np.delete(available, s)\n",
    "        current_vigilence += 1\n",
    "        if current_vigilence == n_vigilence:\n",
    "            break\n",
    "\n",
    "    files[available] = file_filler\n",
    "    return files, labels\n",
    "\n",
    "def evaluation(labels, answers):\n",
    "    labels = np.array(labels)\n",
    "    answers = np.array(answers)\n",
    "    results = {}\n",
    "    results[\"correct_filler\"] = sum(answers[labels==0]==0)\n",
    "    results[\"correct_target\"] = sum(answers[labels==1]==0)\n",
    "    results[\"correct_target_rep\"] = sum(answers[labels==2]==1)\n",
    "    results[\"correct_vigilence\"] = sum(answers[labels==3]==0)\n",
    "    results[\"correct_vigilence_rep\"] = sum(answers[labels==4]==1)\n",
    "    return results\n",
    "\n",
    "def score(n_targets, n_filler, n_vigilence, labels, answers):\n",
    "    e = evaluation(labels, answers)\n",
    "    s_max = n_targets*3+n_filler+n_vigilence*2\n",
    "    s = e[\"correct_filler\"]+e[\"correct_target\"]+2*e[\"correct_target_rep\"]+e[\"correct_vigilence\"]+e[\"correct_vigilence_rep\"] \n",
    "    return round(np.sqrt(s)/np.sqrt(s_max)*100, 1)\n",
    "\n",
    "def return_result(n_targets, n_filler, n_vigilence, labels, answers):\n",
    "    e = evaluation(labels, answers)\n",
    "    return(\"filler accuracy: {:.1f}%, target accuracy: {:.1f}%, vigilence accuracy: {:.1f}%\".format(e['correct_filler']/n_filler*100, \n",
    "                                                                                               (e['correct_target']+e['correct_target_rep'])/(2*n_targets)*100, \n",
    "                                                                                               (e['correct_vigilence']+e['correct_vigilence_rep'])/(2*n_vigilence)*100))"
   ]
  },
  {
   "cell_type": "code",
   "execution_count": 27,
   "metadata": {},
   "outputs": [],
   "source": [
    "def show(img_name, img_path=\"static/imgs\"):\n",
    "    image = Image.open(os.path.join(img_path, img_name))\n",
    "    _, ax = plt.subplots(figsize=(4,4), dpi=120)\n",
    "    ax.imshow(image)\n",
    "    ax.set_yticks([])\n",
    "    ax.set_xticks([])"
   ]
  },
  {
   "cell_type": "code",
   "execution_count": 42,
   "metadata": {},
   "outputs": [],
   "source": [
    "n_targets, n_filler, n_vigilence = 66, 44, 12\n",
    "file_targets, file_filler, file_vigilence = get_files(imgs, set(), n_targets=n_targets, n_filler=n_filler, n_vigilence=n_vigilence)\n",
    "files, labels = get_sequence(file_targets, file_filler, file_vigilence)"
   ]
  },
  {
   "cell_type": "code",
   "execution_count": 6,
   "metadata": {},
   "outputs": [],
   "source": [
    "import pickle, os\n",
    "import numpy as np\n",
    "username = \"ji\"\n",
    "[evaluation, scores, marks] = pickle.load(open(os.path.join(\"data/\"+username, \"data.pkl\"), 'rb'))\n",
    "dataset = {}\n",
    "with open(os.path.join(\"data/\"+username, \"labels.txt\"), 'r') as f:\n",
    "    ls = f.readlines()\n",
    "    for l in ls:\n",
    "        file_name, label = l.strip().split(\" \")\n",
    "        dataset[file_name] = label"
   ]
  },
  {
   "cell_type": "code",
   "execution_count": 13,
   "metadata": {},
   "outputs": [],
   "source": [
    "data = glob(\"data/*/labels.txt\")"
   ]
  },
  {
   "cell_type": "code",
   "execution_count": 14,
   "metadata": {},
   "outputs": [
    {
     "data": {
      "text/plain": [
       "['data/nwo/labels.txt',\n",
       " 'data/ji/labels.txt',\n",
       " 'data/halo/labels.txt',\n",
       " 'data/silver horse/labels.txt',\n",
       " 'data/edouard/labels.txt']"
      ]
     },
     "execution_count": 14,
     "metadata": {},
     "output_type": "execute_result"
    }
   ],
   "source": [
    "data"
   ]
  },
  {
   "cell_type": "code",
   "execution_count": 19,
   "metadata": {},
   "outputs": [],
   "source": [
    "for d in data:\n",
    "    dataset = {}\n",
    "    with open(d, 'r') as f:\n",
    "        ls = f.readlines()\n",
    "        for l in ls:\n",
    "            file_name, label = l.strip().split(\" \")\n",
    "            dataset[file_name] = label\n",
    "    with open(d, 'w') as f:\n",
    "        for k, v in dataset.items():\n",
    "            f.write(\"{},{}\\n\".format(k, v))"
   ]
  },
  {
   "cell_type": "code",
   "execution_count": 21,
   "metadata": {},
   "outputs": [],
   "source": [
    "data = glob(\"data/*/\")\n",
    "for d in data:\n",
    "    if len(glob(d+\"*\")) < 1:\n",
    "        os.rmdir(d)"
   ]
  },
  {
   "cell_type": "code",
   "execution_count": null,
   "metadata": {},
   "outputs": [],
   "source": []
  }
 ],
 "metadata": {
  "kernelspec": {
   "display_name": "Python 3",
   "language": "python",
   "name": "python3"
  },
  "language_info": {
   "codemirror_mode": {
    "name": "ipython",
    "version": 3
   },
   "file_extension": ".py",
   "mimetype": "text/x-python",
   "name": "python",
   "nbconvert_exporter": "python",
   "pygments_lexer": "ipython3",
   "version": "3.7.7"
  }
 },
 "nbformat": 4,
 "nbformat_minor": 4
}
